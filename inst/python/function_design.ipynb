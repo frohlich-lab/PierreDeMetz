{
 "cells": [
  {
   "cell_type": "code",
   "execution_count": 448,
   "id": "2903c6dc",
   "metadata": {},
   "outputs": [],
   "source": [
    "import pandas as pd\n",
    "import numpy as np\n",
    "from matplotlib import pyplot as plt\n",
    "import tensorflow as tf\n",
    "#tf.config.optimizer.set_jit(False)\n",
    "from tensorflow import keras\n",
    "from keras.models import load_model\n",
    "import random\n",
    "from sklearn.metrics import mean_absolute_error\n",
    "#import matplotlib\n",
    "import os\n",
    "import pickle\n",
    "\n",
    "from keras.constraints import Constraint\n",
    "from keras.layers import Layer\n",
    "from keras import backend as K\n",
    "\n",
    "import jax\n",
    "import jax.nn as nn\n",
    "from jax.random import normal\n",
    "from jax.experimental import sparse\n",
    "#from sparse import bcoo_concatenate\n",
    "from jax.tree_util import tree_map\n",
    "import jaxlib\n",
    "import jax.numpy as jnp\n",
    "import haiku as hk\n",
    "import optax\n",
    "from jax import jit\n",
    "from functools import partial\n",
    "import functools\n",
    "from sklearn.decomposition import TruncatedSVD\n",
    "\n",
    "from scipy.sparse import csr_matrix\n",
    "from optax import GradientTransformation\n",
    "\n",
    "from utils import constrained_gradients, StateProbBound, StateProbFolded, Between, between\n",
    "from linear import custom_linear\n",
    "from training import model_training, shuffle_weights"
   ]
  },
  {
   "cell_type": "code",
   "execution_count": 235,
   "id": "c645558b",
   "metadata": {},
   "outputs": [],
   "source": [
    "%load_ext autoreload\n",
    "%autoreload 2"
   ]
  },
  {
   "cell_type": "markdown",
   "id": "ebc2ac02",
   "metadata": {},
   "source": [
    "# Define arguments"
   ]
  },
  {
   "cell_type": "code",
   "execution_count": 363,
   "id": "7a9b68be",
   "metadata": {},
   "outputs": [],
   "source": [
    "data_train = '/Users/pierredemetz/UCL_work/Crick/doubledeepms/Results//Data/mochi/GRB2-SH3/mochi__fit_tmodel_3state_sparse_dimsum128_subsample100p//dataset_train.txt'\n",
    "data_valid = '/Users/pierredemetz/UCL_work/Crick/doubledeepms/Results//Data/mochi/GRB2-SH3/mochi__fit_tmodel_3state_sparse_dimsum128_subsample100p//dataset_valid.txt' \n",
    "data_obs = '/Users/pierredemetz/UCL_work/Crick/doubledeepms/Results//Data/mochi/GRB2-SH3/mochi__fit_tmodel_3state_sparse_dimsum128_subsample100p//dataset_all.txt' \n",
    "o = '/Users/pierredemetz/UCL_work/Crick/doubledeepms/Results//Data/mochi/GRB2-SH3/mochi__fit_tmodel_3state_sparse_dimsum128_subsample100p/ '\n",
    "e = 100 \n",
    "l1_regularization_factor = 0 \n",
    "l2_regularization_factor = 0 \n",
    "p = 1000 \n",
    "num_samples= 128,256,512,1024 \n",
    "learning_rate= 0.001 \n",
    "num_resamplings= 10 \n",
    "num_models= 1 \n",
    "random_seed= 1\n"
   ]
  },
  {
   "cell_type": "code",
   "execution_count": 364,
   "id": "66356f8e",
   "metadata": {},
   "outputs": [],
   "source": [
    "args = {\n",
    "    \"data_train\": \"'/Users/pierredemetz/UCL_work/Crick/doubledeepms/Results//Data/mochi/GRB2-SH3/mochi__fit_tmodel_3state_sparse_dimsum128_subsample100p//dataset_train.txt'\",\n",
    "    \"data_valid\": \"/Users/pierredemetz/UCL_work/Crick/doubledeepms/Results//Data/mochi/GRB2-SH3/mochi__fit_tmodel_3state_sparse_dimsum128_subsample100p//dataset_valid.txt\",\n",
    "    \"data_obs\": \"/Users/pierredemetz/UCL_work/Crick/doubledeepms/Results//Data/mochi/GRB2-SH3/mochi__fit_tmodel_3state_sparse_dimsum128_subsample100p//dataset_all.txt\",\n",
    "    \"output_directory\": \"/Users/pierredemetz/UCL_work/Crick/doubledeepms/Results//Data/mochi/GRB2-SH3/mochi__fit_tmodel_3state_sparse_dimsum128_subsample100p/\",\n",
    "    \"number_additive_traits\": 1,\n",
    "    \"l1_regularization_factor\": \"0.0001,0.001,0.01,0.1\",\n",
    "    \"l2_regularization_factor\": \"0.0001,0.001,0.01,0.1\",\n",
    "    \"num_epochs_grid\": 10,\n",
    "    \"num_epochs\": 10,\n",
    "    \"num_samples\": \"128,256,512,1024\",\n",
    "    \"learning_rate\": \"0.0001,0.001,0.01,0.1\",\n",
    "    \"num_resamplings\": 10,\n",
    "    \"early_stopping\": False,\n",
    "    \"num_models\": 2,\n",
    "    \"random_seed\": 1\n",
    "}\n",
    "\n",
    "data_train_file = args[\"data_train\"]\n",
    "data_valid_file = args[\"data_valid\"]\n",
    "data_obs_file = args[\"data_obs\"]\n",
    "output_directory = args[\"output_directory\"]\n",
    "number_additive_traits = args[\"number_additive_traits\"]\n",
    "num_epochs_grid = args[\"num_epochs_grid\"]\n",
    "num_epochs = args[\"num_epochs\"]\n",
    "num_resamplings = args[\"num_resamplings\"]\n",
    "early_stopping = args[\"early_stopping\"]\n",
    "num_models = args[\"num_models\"]\n",
    "random_seed = args[\"random_seed\"]\n",
    "\n",
    "#Grid search arguments\n",
    "l1 = [float(i) for i in args[\"l1_regularization_factor\"].split(\",\")]\n",
    "l2 = [float(i) for i in args[\"l2_regularization_factor\"].split(\",\")]\n",
    "batch_size = [int(i) for i in args[\"num_samples\"].split(\",\")]\n",
    "learn_rate = [float(i) for i in args[\"learning_rate\"].split(\",\")]"
   ]
  },
  {
   "cell_type": "code",
   "execution_count": 480,
   "id": "f4ae86d8",
   "metadata": {},
   "outputs": [
    {
     "data": {
      "text/plain": [
       "'/Users/pierredemetz/UCL_work/Crick/doubledeepms/Results//Data/mochi/GRB2-SH3/mochi__fit_tmodel_3state_sparse_dimsum128_subsample100p/'"
      ]
     },
     "execution_count": 480,
     "metadata": {},
     "output_type": "execute_result"
    }
   ],
   "source": [
    "output_directory"
   ]
  },
  {
   "cell_type": "markdown",
   "id": "e58fad07",
   "metadata": {},
   "source": [
    "# Load model data jax"
   ]
  },
  {
   "cell_type": "code",
   "execution_count": 459,
   "id": "6e9d480c",
   "metadata": {},
   "outputs": [],
   "source": [
    "data_train_file = '/Users/pierredemetz/UCL_work/Crick/doubledeepms/Results//Data/mochi/GRB2-SH3/mochi__fit_tmodel_3state_sparse_dimsum128_subsample100p//dataset_train.txt'\n",
    "\n",
    "data_valid_file = '/Users/pierredemetz/UCL_work/Crick/doubledeepms/Results//Data/mochi/GRB2-SH3/mochi__fit_tmodel_3state_sparse_dimsum128_subsample100p//dataset_valid.txt' \n",
    "\n",
    "data_obs_file = '/Users/pierredemetz/UCL_work/Crick/doubledeepms/Results//Data/mochi/GRB2-SH3/mochi__fit_tmodel_3state_sparse_dimsum128_subsample100p//dataset_all.txt'"
   ]
  },
  {
   "cell_type": "code",
   "execution_count": 462,
   "id": "7e00a688",
   "metadata": {},
   "outputs": [],
   "source": [
    "#create the rng\n",
    "random_seed = 42\n",
    "rng = jax.random.PRNGKey(random_seed)\n",
    "\n",
    "#Load model data\n",
    "model_data_jax = load_model_data_jax({\n",
    "    \"train\": data_train_file,\n",
    "    \"valid\": data_valid_file,\n",
    "    \"obs\": data_obs_file\n",
    "    })"
   ]
  },
  {
   "cell_type": "code",
   "execution_count": 471,
   "id": "a30023db",
   "metadata": {},
   "outputs": [
    {
     "data": {
      "text/plain": [
       "{'select': DeviceArray([[1., 0.],\n",
       "              [1., 0.],\n",
       "              [0., 1.],\n",
       "              ...,\n",
       "              [0., 1.],\n",
       "              [1., 0.],\n",
       "              [1., 0.]], dtype=float32),\n",
       " 'fold': DeviceArray([[1., 0., 0., ..., 0., 0., 0.],\n",
       "              [1., 0., 0., ..., 0., 0., 0.],\n",
       "              [1., 0., 0., ..., 0., 0., 0.],\n",
       "              ...,\n",
       "              [1., 0., 0., ..., 0., 0., 0.],\n",
       "              [1., 0., 0., ..., 0., 0., 0.],\n",
       "              [1., 0., 0., ..., 0., 0., 0.]], dtype=float32),\n",
       " 'bind': DeviceArray([[1., 0., 0., ..., 0., 0., 0.],\n",
       "              [1., 0., 0., ..., 0., 0., 0.],\n",
       "              [1., 0., 0., ..., 0., 0., 0.],\n",
       "              ...,\n",
       "              [1., 0., 0., ..., 0., 0., 0.],\n",
       "              [1., 0., 0., ..., 0., 0., 0.],\n",
       "              [1., 0., 0., ..., 0., 0., 0.]], dtype=float32),\n",
       " 'target': DeviceArray([-0.41231823, -0.77879196, -0.3400993 , ..., -0.45269558,\n",
       "              -1.261652  , -0.30744419], dtype=float32),\n",
       " 'target_sd': DeviceArray([0.08256807, 0.2526651 , 0.03922631, ..., 0.06961515,\n",
       "              0.18144982, 0.03602086], dtype=float32),\n",
       " 'sequence': array(['000000000N00000000000000000K0000000000000000000000000000',\n",
       "        '0000C000000000000000E00000000000000000000000000000000000',\n",
       "        '000000000000000000000000000000000I00000000000V0000000000', ...,\n",
       "        '0000000000000V000000W00000000000000000000000000000000000',\n",
       "        '0000000000000000000000000000000000000000000G000000000C00',\n",
       "        '0000000000000000000E0000000000000000000000V0000000000000'],\n",
       "       dtype=object),\n",
       " 'training_set': DeviceArray([[0],\n",
       "              [0],\n",
       "              [0],\n",
       "              ...,\n",
       "              [0],\n",
       "              [0],\n",
       "              [0]], dtype=int32),\n",
       " 'fold_colnames': array(['WT', 'T1A', 'T1C', ..., 'N56V', 'N56W', 'N56Y'], dtype='<U4'),\n",
       " 'bind_colnames': array(['WT', 'T1A', 'T1E', 'T1G', 'T1I', 'T1K', 'T1L', 'T1M', 'T1N',\n",
       "        'T1P', 'T1R', 'T1S', 'T1V', 'Y2A', 'Y2C', 'Y2D', 'Y2F', 'Y2H',\n",
       "        'Y2I', 'Y2K', 'Y2L', 'Y2N', 'Y2Q', 'Y2R', 'Y2S', 'Y2T', 'Y2W',\n",
       "        'V3A', 'V3C', 'V3D', 'V3E', 'V3F', 'V3G', 'V3H', 'V3I', 'V3L',\n",
       "        'V3N', 'V3P', 'V3S', 'V3T', 'V3Y', 'Q4E', 'Q4G', 'Q4H', 'Q4K',\n",
       "        'Q4L', 'Q4M', 'Q4N', 'Q4P', 'Q4R', 'Q4S', 'Q4T', 'Q4V', 'Q4W',\n",
       "        'Q4Y', 'A5D', 'A5E', 'A5G', 'A5I', 'A5N', 'A5P', 'A5S', 'A5T',\n",
       "        'A5V', 'A5Y', 'L6C', 'L6F', 'L6H', 'L6I', 'L6N', 'L6P', 'L6Q',\n",
       "        'L6R', 'L6S', 'L6V', 'L6Y', 'F7A', 'F7C', 'F7H', 'F7I', 'F7L',\n",
       "        'F7M', 'F7N', 'F7P', 'F7S', 'F7T', 'F7V', 'F7Y', 'D8A', 'D8C',\n",
       "        'D8E', 'D8F', 'D8G', 'D8H', 'D8I', 'D8K', 'D8N', 'D8Q', 'D8R',\n",
       "        'D8S', 'D8T', 'D8V', 'D8Y', 'F9A', 'F9C', 'F9H', 'F9I', 'F9L',\n",
       "        'F9M', 'F9N', 'F9P', 'F9S', 'F9T', 'F9V', 'F9Y', 'D10A', 'D10C',\n",
       "        'D10E', 'D10F', 'D10G', 'D10H', 'D10I', 'D10K', 'D10L', 'D10N',\n",
       "        'D10S', 'D10T', 'D10V', 'D10Y', 'P11A', 'P11D', 'P11F', 'P11H',\n",
       "        'P11I', 'P11L', 'P11N', 'P11Q', 'P11R', 'P11S', 'P11T', 'P11Y',\n",
       "        'Q12A', 'Q12D', 'Q12E', 'Q12G', 'Q12H', 'Q12K', 'Q12L', 'Q12M',\n",
       "        'Q12N', 'Q12P', 'Q12R', 'Q12T', 'Q12V', 'Q12W', 'Q12Y', 'E13A',\n",
       "        'E13D', 'E13G', 'E13K', 'E13L', 'E13M', 'E13N', 'E13Q', 'E13R',\n",
       "        'E13V', 'E13Y', 'D14A', 'D14C', 'D14E', 'D14F', 'D14G', 'D14H',\n",
       "        'D14I', 'D14K', 'D14L', 'D14N', 'D14Q', 'D14R', 'D14S', 'D14V',\n",
       "        'D14Y', 'G15A', 'G15C', 'G15D', 'G15E', 'G15I', 'G15K', 'G15L',\n",
       "        'G15Q', 'G15R', 'G15S', 'G15V', 'G15W', 'E16A', 'E16D', 'E16G',\n",
       "        'E16K', 'E16L', 'E16M', 'E16N', 'E16Q', 'E16R', 'E16V', 'E16W',\n",
       "        'E16Y', 'L17A', 'L17H', 'L17I', 'L17K', 'L17M', 'L17P', 'L17Q',\n",
       "        'L17R', 'L17S', 'L17T', 'L17V', 'L17W', 'G18A', 'G18C', 'G18D',\n",
       "        'G18E', 'G18F', 'G18H', 'G18I', 'G18N', 'G18R', 'G18S', 'G18T',\n",
       "        'G18V', 'G18W', 'G18Y', 'F19C', 'F19H', 'F19I', 'F19L', 'F19M',\n",
       "        'F19N', 'F19P', 'F19R', 'F19S', 'F19T', 'F19V', 'F19Y', 'R20A',\n",
       "        'R20C', 'R20D', 'R20F', 'R20G', 'R20H', 'R20I', 'R20L', 'R20N',\n",
       "        'R20P', 'R20Q', 'R20S', 'R20T', 'R20W', 'R20Y', 'R21A', 'R21C',\n",
       "        'R21E', 'R21G', 'R21H', 'R21I', 'R21K', 'R21L', 'R21M', 'R21P',\n",
       "        'R21Q', 'R21S', 'R21T', 'R21V', 'R21W', 'G22A', 'G22C', 'G22D',\n",
       "        'G22E', 'G22I', 'G22K', 'G22L', 'G22Q', 'G22R', 'G22S', 'G22V',\n",
       "        'G22W', 'D23A', 'D23C', 'D23E', 'D23F', 'D23G', 'D23H', 'D23I',\n",
       "        'D23K', 'D23L', 'D23N', 'D23S', 'D23V', 'D23Y', 'F24A', 'F24C',\n",
       "        'F24D', 'F24G', 'F24H', 'F24I', 'F24L', 'F24M', 'F24N', 'F24P',\n",
       "        'F24R', 'F24S', 'F24T', 'F24V', 'F24W', 'F24Y', 'I25A', 'I25D',\n",
       "        'I25F', 'I25H', 'I25K', 'I25L', 'I25M', 'I25N', 'I25P', 'I25R',\n",
       "        'I25S', 'I25T', 'I25V', 'I25Y', 'H26A', 'H26C', 'H26D', 'H26E',\n",
       "        'H26F', 'H26G', 'H26I', 'H26K', 'H26L', 'H26N', 'H26P', 'H26Q',\n",
       "        'H26R', 'H26S', 'H26T', 'H26V', 'H26Y', 'V27A', 'V27C', 'V27D',\n",
       "        'V27E', 'V27F', 'V27G', 'V27H', 'V27I', 'V27L', 'V27M', 'V27N',\n",
       "        'V27S', 'V27T', 'V27Y', 'M28A', 'M28E', 'M28F', 'M28G', 'M28I',\n",
       "        'M28K', 'M28L', 'M28N', 'M28P', 'M28Q', 'M28R', 'M28S', 'M28T',\n",
       "        'M28V', 'M28W', 'M28Y', 'D29A', 'D29C', 'D29E', 'D29F', 'D29G',\n",
       "        'D29H', 'D29I', 'D29K', 'D29L', 'D29N', 'D29P', 'D29S', 'D29V',\n",
       "        'D29Y', 'N30A', 'N30C', 'N30D', 'N30E', 'N30F', 'N30G', 'N30H',\n",
       "        'N30I', 'N30K', 'N30M', 'N30R', 'N30S', 'N30T', 'N30V', 'N30Y',\n",
       "        'S31A', 'S31E', 'S31F', 'S31I', 'S31K', 'S31L', 'S31P', 'S31Q',\n",
       "        'S31R', 'S31T', 'S31V', 'S31W', 'S31Y', 'D32A', 'D32C', 'D32E',\n",
       "        'D32F', 'D32G', 'D32H', 'D32I', 'D32K', 'D32N', 'D32S', 'D32T',\n",
       "        'D32V', 'D32Y', 'P33A', 'P33C', 'P33D', 'P33F', 'P33G', 'P33H',\n",
       "        'P33I', 'P33K', 'P33L', 'P33N', 'P33Q', 'P33R', 'P33S', 'P33T',\n",
       "        'P33V', 'P33Y', 'N34A', 'N34C', 'N34D', 'N34E', 'N34F', 'N34G',\n",
       "        'N34H', 'N34I', 'N34K', 'N34L', 'N34Q', 'N34R', 'N34S', 'N34T',\n",
       "        'N34V', 'N34Y', 'W35A', 'W35C', 'W35E', 'W35F', 'W35G', 'W35K',\n",
       "        'W35L', 'W35M', 'W35Q', 'W35R', 'W35S', 'W35T', 'W35V', 'W35Y',\n",
       "        'W36C', 'W36F', 'W36G', 'W36K', 'W36L', 'W36M', 'W36Q', 'W36R',\n",
       "        'W36S', 'W36T', 'W36V', 'W36Y', 'K37D', 'K37E', 'K37G', 'K37I',\n",
       "        'K37L', 'K37M', 'K37N', 'K37Q', 'K37R', 'K37S', 'K37T', 'K37V',\n",
       "        'K37Y', 'G38A', 'G38C', 'G38D', 'G38E', 'G38I', 'G38K', 'G38L',\n",
       "        'G38Q', 'G38R', 'G38S', 'G38T', 'G38V', 'G38W', 'A39C', 'A39D',\n",
       "        'A39E', 'A39F', 'A39G', 'A39I', 'A39N', 'A39P', 'A39S', 'A39T',\n",
       "        'A39V', 'A39Y', 'C40F', 'C40G', 'C40H', 'C40I', 'C40L', 'C40N',\n",
       "        'C40R', 'C40S', 'C40W', 'C40Y', 'H41C', 'H41D', 'H41E', 'H41F',\n",
       "        'H41G', 'H41I', 'H41K', 'H41L', 'H41N', 'H41P', 'H41Q', 'H41R',\n",
       "        'H41S', 'H41T', 'H41V', 'H41Y', 'G42A', 'G42C', 'G42D', 'G42E',\n",
       "        'G42F', 'G42K', 'G42L', 'G42M', 'G42Q', 'G42R', 'G42S', 'G42T',\n",
       "        'G42V', 'G42W', 'Q43D', 'Q43E', 'Q43H', 'Q43K', 'Q43L', 'Q43M',\n",
       "        'Q43N', 'Q43P', 'Q43R', 'Q43V', 'Q43W', 'Q43Y', 'T44A', 'T44C',\n",
       "        'T44D', 'T44F', 'T44G', 'T44I', 'T44K', 'T44M', 'T44N', 'T44P',\n",
       "        'T44R', 'T44S', 'T44V', 'T44Y', 'G45A', 'G45C', 'G45D', 'G45E',\n",
       "        'G45F', 'G45H', 'G45I', 'G45L', 'G45N', 'G45P', 'G45R', 'G45S',\n",
       "        'G45T', 'G45V', 'G45W', 'G45Y', 'M46A', 'M46E', 'M46F', 'M46I',\n",
       "        'M46K', 'M46L', 'M46N', 'M46R', 'M46S', 'M46T', 'M46V', 'M46W',\n",
       "        'F47C', 'F47D', 'F47H', 'F47I', 'F47L', 'F47N', 'F47P', 'F47S',\n",
       "        'F47T', 'F47V', 'F47Y', 'P48A', 'P48F', 'P48H', 'P48I', 'P48L',\n",
       "        'P48N', 'P48Q', 'P48R', 'P48S', 'P48T', 'P48Y', 'R49A', 'R49C',\n",
       "        'R49D', 'R49F', 'R49G', 'R49H', 'R49I', 'R49L', 'R49N', 'R49P',\n",
       "        'R49Q', 'R49S', 'R49T', 'R49W', 'R49Y', 'N50C', 'N50D', 'N50E',\n",
       "        'N50F', 'N50G', 'N50H', 'N50I', 'N50K', 'N50L', 'N50M', 'N50Q',\n",
       "        'N50R', 'N50S', 'N50T', 'N50V', 'N50Y', 'Y51C', 'Y51D', 'Y51F',\n",
       "        'Y51H', 'Y51I', 'Y51K', 'Y51L', 'Y51N', 'Y51Q', 'Y51R', 'Y51S',\n",
       "        'Y51T', 'Y51V', 'Y51W', 'V52A', 'V52C', 'V52D', 'V52E', 'V52F',\n",
       "        'V52G', 'V52I', 'V52L', 'V52M', 'V52N', 'V52P', 'V52S', 'V52T',\n",
       "        'V52Y', 'T53A', 'T53D', 'T53F', 'T53G', 'T53I', 'T53K', 'T53M',\n",
       "        'T53N', 'T53P', 'T53R', 'T53S', 'T53V', 'T53Y', 'P54A', 'P54D',\n",
       "        'P54F', 'P54H', 'P54I', 'P54L', 'P54N', 'P54Q', 'P54R', 'P54S',\n",
       "        'P54T', 'P54V', 'P54Y', 'V55A', 'V55D', 'V55E', 'V55F', 'V55G',\n",
       "        'V55I', 'V55K', 'V55L', 'V55M', 'V55P', 'V55Q', 'V55R', 'V55S',\n",
       "        'V55T', 'N56C', 'N56D', 'N56E', 'N56F', 'N56G', 'N56H', 'N56I',\n",
       "        'N56K', 'N56M', 'N56Q', 'N56R', 'N56S', 'N56T', 'N56V', 'N56Y'],\n",
       "       dtype='<U4')}"
      ]
     },
     "execution_count": 471,
     "metadata": {},
     "output_type": "execute_result"
    }
   ],
   "source": [
    "model_data_jax['valid']"
   ]
  },
  {
   "cell_type": "code",
   "execution_count": 461,
   "id": "5a770f7f",
   "metadata": {},
   "outputs": [],
   "source": [
    "from utils import constrained_gradients, StateProbBound, StateProbFolded, Between, between, get_seq_id, get_layer_index\n",
    "from training import model_training, shuffle_weights, fit_model_grid_jax\n",
    "from dataloading import load_model_data_jax, resample_training_data_jax"
   ]
  },
  {
   "cell_type": "markdown",
   "id": "ede16798",
   "metadata": {},
   "source": [
    "# Resample training data jax"
   ]
  },
  {
   "cell_type": "code",
   "execution_count": 370,
   "id": "605841d7",
   "metadata": {},
   "outputs": [
    {
     "name": "stdout",
     "output_type": "stream",
     "text": [
      "here\n"
     ]
    }
   ],
   "source": [
    "#Resample training data\n",
    "num_resamplings = 1\n",
    "\n",
    "#create the rng\n",
    "random_seed = 42\n",
    "rng = jax.random.PRNGKey(random_seed)\n",
    "\n",
    "if num_resamplings!=0:\n",
    "    model_data_jax[\"train\"] = resample_training_data_jax(\n",
    "        tensor_dict = model_data_jax[\"train\"],\n",
    "        n_resamplings = num_resamplings,\n",
    "        rng = rng)"
   ]
  },
  {
   "cell_type": "code",
   "execution_count": 463,
   "id": "4a9c9da2",
   "metadata": {},
   "outputs": [
    {
     "data": {
      "text/plain": [
       "{'select': DeviceArray([[0., 1.],\n",
       "              [0., 1.],\n",
       "              [1., 0.],\n",
       "              ...,\n",
       "              [1., 0.],\n",
       "              [1., 0.],\n",
       "              [0., 1.]], dtype=float32),\n",
       " 'fold': DeviceArray([[1., 0., 0., ..., 0., 0., 0.],\n",
       "              [1., 0., 0., ..., 0., 0., 0.],\n",
       "              [1., 0., 0., ..., 0., 0., 0.],\n",
       "              ...,\n",
       "              [1., 0., 0., ..., 0., 0., 0.],\n",
       "              [1., 0., 0., ..., 0., 0., 0.],\n",
       "              [1., 0., 0., ..., 0., 0., 0.]], dtype=float32),\n",
       " 'bind': DeviceArray([[1., 0., 0., ..., 0., 0., 0.],\n",
       "              [1., 0., 0., ..., 0., 0., 0.],\n",
       "              [1., 0., 0., ..., 0., 0., 0.],\n",
       "              ...,\n",
       "              [1., 0., 0., ..., 0., 0., 0.],\n",
       "              [1., 0., 0., ..., 0., 0., 0.],\n",
       "              [1., 0., 0., ..., 0., 0., 0.]], dtype=float32),\n",
       " 'target': DeviceArray([-0.33598602, -0.8518485 , -1.0957463 , ..., -0.26487023,\n",
       "              -1.166961  , -0.66433465], dtype=float32),\n",
       " 'target_sd': DeviceArray([0.11158013, 0.17281719, 0.09720125, ..., 0.22753495,\n",
       "              0.36643863, 0.15336636], dtype=float32),\n",
       " 'sequence': array(['0000000000000000000000000000000000000000000000000L000000',\n",
       "        '00000000I0000000000000000000000000000000Q000000000000000',\n",
       "        '000000000000000000000000000000000000000V000000W000000000', ...,\n",
       "        '000000000M0000000000000000000000000000000000000000000S00',\n",
       "        '000000000000000000K0000000000000000T00000000000000000000',\n",
       "        '000000000N0000000000000000000000000000000000S00000000000'],\n",
       "       dtype=object),\n",
       " 'training_set': DeviceArray([[1],\n",
       "              [1],\n",
       "              [1],\n",
       "              ...,\n",
       "              [1],\n",
       "              [1],\n",
       "              [1]], dtype=int32),\n",
       " 'fold_colnames': array(['WT', 'T1A', 'T1C', ..., 'N56V', 'N56W', 'N56Y'], dtype='<U4'),\n",
       " 'bind_colnames': array(['WT', 'T1A', 'T1E', 'T1G', 'T1I', 'T1K', 'T1L', 'T1M', 'T1N',\n",
       "        'T1P', 'T1R', 'T1S', 'T1V', 'Y2A', 'Y2C', 'Y2D', 'Y2F', 'Y2H',\n",
       "        'Y2I', 'Y2K', 'Y2L', 'Y2N', 'Y2Q', 'Y2R', 'Y2S', 'Y2T', 'Y2W',\n",
       "        'V3A', 'V3C', 'V3D', 'V3E', 'V3F', 'V3G', 'V3H', 'V3I', 'V3L',\n",
       "        'V3N', 'V3P', 'V3S', 'V3T', 'V3Y', 'Q4E', 'Q4G', 'Q4H', 'Q4K',\n",
       "        'Q4L', 'Q4M', 'Q4N', 'Q4P', 'Q4R', 'Q4S', 'Q4T', 'Q4V', 'Q4W',\n",
       "        'Q4Y', 'A5D', 'A5E', 'A5G', 'A5I', 'A5N', 'A5P', 'A5S', 'A5T',\n",
       "        'A5V', 'A5Y', 'L6C', 'L6F', 'L6H', 'L6I', 'L6N', 'L6P', 'L6Q',\n",
       "        'L6R', 'L6S', 'L6V', 'L6Y', 'F7A', 'F7C', 'F7H', 'F7I', 'F7L',\n",
       "        'F7M', 'F7N', 'F7P', 'F7S', 'F7T', 'F7V', 'F7Y', 'D8A', 'D8C',\n",
       "        'D8E', 'D8F', 'D8G', 'D8H', 'D8I', 'D8K', 'D8N', 'D8Q', 'D8R',\n",
       "        'D8S', 'D8T', 'D8V', 'D8Y', 'F9A', 'F9C', 'F9H', 'F9I', 'F9L',\n",
       "        'F9M', 'F9N', 'F9P', 'F9S', 'F9T', 'F9V', 'F9Y', 'D10A', 'D10C',\n",
       "        'D10E', 'D10F', 'D10G', 'D10H', 'D10I', 'D10K', 'D10L', 'D10N',\n",
       "        'D10S', 'D10T', 'D10V', 'D10Y', 'P11A', 'P11D', 'P11F', 'P11H',\n",
       "        'P11I', 'P11L', 'P11N', 'P11Q', 'P11R', 'P11S', 'P11T', 'P11Y',\n",
       "        'Q12A', 'Q12D', 'Q12E', 'Q12G', 'Q12H', 'Q12K', 'Q12L', 'Q12M',\n",
       "        'Q12N', 'Q12P', 'Q12R', 'Q12T', 'Q12V', 'Q12W', 'Q12Y', 'E13A',\n",
       "        'E13D', 'E13G', 'E13K', 'E13L', 'E13M', 'E13N', 'E13Q', 'E13R',\n",
       "        'E13V', 'E13Y', 'D14A', 'D14C', 'D14E', 'D14F', 'D14G', 'D14H',\n",
       "        'D14I', 'D14K', 'D14L', 'D14N', 'D14Q', 'D14R', 'D14S', 'D14V',\n",
       "        'D14Y', 'G15A', 'G15C', 'G15D', 'G15E', 'G15I', 'G15K', 'G15L',\n",
       "        'G15Q', 'G15R', 'G15S', 'G15V', 'G15W', 'E16A', 'E16D', 'E16G',\n",
       "        'E16K', 'E16L', 'E16M', 'E16N', 'E16Q', 'E16R', 'E16V', 'E16W',\n",
       "        'E16Y', 'L17A', 'L17H', 'L17I', 'L17K', 'L17M', 'L17P', 'L17Q',\n",
       "        'L17R', 'L17S', 'L17T', 'L17V', 'L17W', 'G18A', 'G18C', 'G18D',\n",
       "        'G18E', 'G18F', 'G18H', 'G18I', 'G18N', 'G18R', 'G18S', 'G18T',\n",
       "        'G18V', 'G18W', 'G18Y', 'F19C', 'F19H', 'F19I', 'F19L', 'F19M',\n",
       "        'F19N', 'F19P', 'F19R', 'F19S', 'F19T', 'F19V', 'F19Y', 'R20A',\n",
       "        'R20C', 'R20D', 'R20F', 'R20G', 'R20H', 'R20I', 'R20L', 'R20N',\n",
       "        'R20P', 'R20Q', 'R20S', 'R20T', 'R20W', 'R20Y', 'R21A', 'R21C',\n",
       "        'R21E', 'R21G', 'R21H', 'R21I', 'R21K', 'R21L', 'R21M', 'R21P',\n",
       "        'R21Q', 'R21S', 'R21T', 'R21V', 'R21W', 'G22A', 'G22C', 'G22D',\n",
       "        'G22E', 'G22I', 'G22K', 'G22L', 'G22Q', 'G22R', 'G22S', 'G22V',\n",
       "        'G22W', 'D23A', 'D23C', 'D23E', 'D23F', 'D23G', 'D23H', 'D23I',\n",
       "        'D23K', 'D23L', 'D23N', 'D23S', 'D23V', 'D23Y', 'F24A', 'F24C',\n",
       "        'F24D', 'F24G', 'F24H', 'F24I', 'F24L', 'F24M', 'F24N', 'F24P',\n",
       "        'F24R', 'F24S', 'F24T', 'F24V', 'F24W', 'F24Y', 'I25A', 'I25D',\n",
       "        'I25F', 'I25H', 'I25K', 'I25L', 'I25M', 'I25N', 'I25P', 'I25R',\n",
       "        'I25S', 'I25T', 'I25V', 'I25Y', 'H26A', 'H26C', 'H26D', 'H26E',\n",
       "        'H26F', 'H26G', 'H26I', 'H26K', 'H26L', 'H26N', 'H26P', 'H26Q',\n",
       "        'H26R', 'H26S', 'H26T', 'H26V', 'H26Y', 'V27A', 'V27C', 'V27D',\n",
       "        'V27E', 'V27F', 'V27G', 'V27H', 'V27I', 'V27L', 'V27M', 'V27N',\n",
       "        'V27S', 'V27T', 'V27Y', 'M28A', 'M28E', 'M28F', 'M28G', 'M28I',\n",
       "        'M28K', 'M28L', 'M28N', 'M28P', 'M28Q', 'M28R', 'M28S', 'M28T',\n",
       "        'M28V', 'M28W', 'M28Y', 'D29A', 'D29C', 'D29E', 'D29F', 'D29G',\n",
       "        'D29H', 'D29I', 'D29K', 'D29L', 'D29N', 'D29P', 'D29S', 'D29V',\n",
       "        'D29Y', 'N30A', 'N30C', 'N30D', 'N30E', 'N30F', 'N30G', 'N30H',\n",
       "        'N30I', 'N30K', 'N30M', 'N30R', 'N30S', 'N30T', 'N30V', 'N30Y',\n",
       "        'S31A', 'S31E', 'S31F', 'S31I', 'S31K', 'S31L', 'S31P', 'S31Q',\n",
       "        'S31R', 'S31T', 'S31V', 'S31W', 'S31Y', 'D32A', 'D32C', 'D32E',\n",
       "        'D32F', 'D32G', 'D32H', 'D32I', 'D32K', 'D32N', 'D32S', 'D32T',\n",
       "        'D32V', 'D32Y', 'P33A', 'P33C', 'P33D', 'P33F', 'P33G', 'P33H',\n",
       "        'P33I', 'P33K', 'P33L', 'P33N', 'P33Q', 'P33R', 'P33S', 'P33T',\n",
       "        'P33V', 'P33Y', 'N34A', 'N34C', 'N34D', 'N34E', 'N34F', 'N34G',\n",
       "        'N34H', 'N34I', 'N34K', 'N34L', 'N34Q', 'N34R', 'N34S', 'N34T',\n",
       "        'N34V', 'N34Y', 'W35A', 'W35C', 'W35E', 'W35F', 'W35G', 'W35K',\n",
       "        'W35L', 'W35M', 'W35Q', 'W35R', 'W35S', 'W35T', 'W35V', 'W35Y',\n",
       "        'W36C', 'W36F', 'W36G', 'W36K', 'W36L', 'W36M', 'W36Q', 'W36R',\n",
       "        'W36S', 'W36T', 'W36V', 'W36Y', 'K37D', 'K37E', 'K37G', 'K37I',\n",
       "        'K37L', 'K37M', 'K37N', 'K37Q', 'K37R', 'K37S', 'K37T', 'K37V',\n",
       "        'K37Y', 'G38A', 'G38C', 'G38D', 'G38E', 'G38I', 'G38K', 'G38L',\n",
       "        'G38Q', 'G38R', 'G38S', 'G38T', 'G38V', 'G38W', 'A39C', 'A39D',\n",
       "        'A39E', 'A39F', 'A39G', 'A39I', 'A39N', 'A39P', 'A39S', 'A39T',\n",
       "        'A39V', 'A39Y', 'C40F', 'C40G', 'C40H', 'C40I', 'C40L', 'C40N',\n",
       "        'C40R', 'C40S', 'C40W', 'C40Y', 'H41C', 'H41D', 'H41E', 'H41F',\n",
       "        'H41G', 'H41I', 'H41K', 'H41L', 'H41N', 'H41P', 'H41Q', 'H41R',\n",
       "        'H41S', 'H41T', 'H41V', 'H41Y', 'G42A', 'G42C', 'G42D', 'G42E',\n",
       "        'G42F', 'G42K', 'G42L', 'G42M', 'G42Q', 'G42R', 'G42S', 'G42T',\n",
       "        'G42V', 'G42W', 'Q43D', 'Q43E', 'Q43H', 'Q43K', 'Q43L', 'Q43M',\n",
       "        'Q43N', 'Q43P', 'Q43R', 'Q43V', 'Q43W', 'Q43Y', 'T44A', 'T44C',\n",
       "        'T44D', 'T44F', 'T44G', 'T44I', 'T44K', 'T44M', 'T44N', 'T44P',\n",
       "        'T44R', 'T44S', 'T44V', 'T44Y', 'G45A', 'G45C', 'G45D', 'G45E',\n",
       "        'G45F', 'G45H', 'G45I', 'G45L', 'G45N', 'G45P', 'G45R', 'G45S',\n",
       "        'G45T', 'G45V', 'G45W', 'G45Y', 'M46A', 'M46E', 'M46F', 'M46I',\n",
       "        'M46K', 'M46L', 'M46N', 'M46R', 'M46S', 'M46T', 'M46V', 'M46W',\n",
       "        'F47C', 'F47D', 'F47H', 'F47I', 'F47L', 'F47N', 'F47P', 'F47S',\n",
       "        'F47T', 'F47V', 'F47Y', 'P48A', 'P48F', 'P48H', 'P48I', 'P48L',\n",
       "        'P48N', 'P48Q', 'P48R', 'P48S', 'P48T', 'P48Y', 'R49A', 'R49C',\n",
       "        'R49D', 'R49F', 'R49G', 'R49H', 'R49I', 'R49L', 'R49N', 'R49P',\n",
       "        'R49Q', 'R49S', 'R49T', 'R49W', 'R49Y', 'N50C', 'N50D', 'N50E',\n",
       "        'N50F', 'N50G', 'N50H', 'N50I', 'N50K', 'N50L', 'N50M', 'N50Q',\n",
       "        'N50R', 'N50S', 'N50T', 'N50V', 'N50Y', 'Y51C', 'Y51D', 'Y51F',\n",
       "        'Y51H', 'Y51I', 'Y51K', 'Y51L', 'Y51N', 'Y51Q', 'Y51R', 'Y51S',\n",
       "        'Y51T', 'Y51V', 'Y51W', 'V52A', 'V52C', 'V52D', 'V52E', 'V52F',\n",
       "        'V52G', 'V52I', 'V52L', 'V52M', 'V52N', 'V52P', 'V52S', 'V52T',\n",
       "        'V52Y', 'T53A', 'T53D', 'T53F', 'T53G', 'T53I', 'T53K', 'T53M',\n",
       "        'T53N', 'T53P', 'T53R', 'T53S', 'T53V', 'T53Y', 'P54A', 'P54D',\n",
       "        'P54F', 'P54H', 'P54I', 'P54L', 'P54N', 'P54Q', 'P54R', 'P54S',\n",
       "        'P54T', 'P54V', 'P54Y', 'V55A', 'V55D', 'V55E', 'V55F', 'V55G',\n",
       "        'V55I', 'V55K', 'V55L', 'V55M', 'V55P', 'V55Q', 'V55R', 'V55S',\n",
       "        'V55T', 'N56C', 'N56D', 'N56E', 'N56F', 'N56G', 'N56H', 'N56I',\n",
       "        'N56K', 'N56M', 'N56Q', 'N56R', 'N56S', 'N56T', 'N56V', 'N56Y'],\n",
       "       dtype='<U4')}"
      ]
     },
     "execution_count": 463,
     "metadata": {},
     "output_type": "execute_result"
    }
   ],
   "source": [
    "model_data_jax[\"train\"]"
   ]
  },
  {
   "cell_type": "markdown",
   "id": "72027128",
   "metadata": {},
   "source": [
    "# Create model Jax"
   ]
  },
  {
   "cell_type": "code",
   "execution_count": 473,
   "id": "2ad61f61",
   "metadata": {},
   "outputs": [],
   "source": [
    "from training import fit_model_grid_jax"
   ]
  },
  {
   "cell_type": "code",
   "execution_count": 474,
   "id": "973308bf",
   "metadata": {
    "scrolled": false
   },
   "outputs": [
    {
     "name": "stdout",
     "output_type": "stream",
     "text": [
      "Grid search using {'num_samples': 128, 'learning_rate': 0.0001, 'l1_regularization_factor': 0.0001, 'l2_regularization_factor': 0.0001, 'number_additive_traits': 1}\n",
      "epoch done\n",
      "epoch done\n",
      "epoch done\n",
      "epoch done\n",
      "epoch done\n",
      "epoch done\n",
      "epoch done\n",
      "epoch done\n",
      "epoch done\n",
      "epoch done\n",
      "Grid search using {'num_samples': 128, 'learning_rate': 0.0001, 'l1_regularization_factor': 0.0001, 'l2_regularization_factor': 0.001, 'number_additive_traits': 1}\n",
      "epoch done\n",
      "epoch done\n",
      "epoch done\n",
      "epoch done\n",
      "epoch done\n",
      "epoch done\n",
      "epoch done\n",
      "epoch done\n",
      "epoch done\n",
      "epoch done\n",
      "Grid search using {'num_samples': 128, 'learning_rate': 0.0001, 'l1_regularization_factor': 0.0001, 'l2_regularization_factor': 0.01, 'number_additive_traits': 1}\n",
      "epoch done\n",
      "epoch done\n",
      "epoch done\n",
      "epoch done\n",
      "epoch done\n",
      "epoch done\n",
      "epoch done\n",
      "epoch done\n",
      "epoch done\n",
      "epoch done\n",
      "Best: 0.427219 using {'num_samples': 128, 'learning_rate': 0.0001, 'l1_regularization_factor': 0.0001, 'l2_regularization_factor': 0.01, 'number_additive_traits': 1}\n"
     ]
    }
   ],
   "source": [
    "#Fit model\n",
    "if len(l1) == 1 and len(l2) == 1 and len(batch_size) == 1 and len(learn_rate) == 1:\n",
    "    best_params = {\n",
    "        \"num_samples\": batch_size[0],\n",
    "        \"learning_rate\": learn_rate[0],\n",
    "        \"l1_regularization_factor\": l1[0],\n",
    "        \"l2_regularization_factor\": l2[0],\n",
    "        \"number_additive_traits\": 1\n",
    "    }\n",
    "else:\n",
    "    parameter_grid = [{\n",
    "        \"num_samples\": i,\n",
    "        \"learning_rate\": j,\n",
    "        \"l1_regularization_factor\": k,\n",
    "        \"l2_regularization_factor\": l,\n",
    "        \"number_additive_traits\": 1\n",
    "    } for i in batch_size for j in learn_rate for k in l1 for l in l2]\n",
    "\n",
    "    rng = jax.random.PRNGKey(random_seed)\n",
    "    rngs = jax.random.split(rng, len(parameter_grid[:3]))\n",
    "    #print(len(parameter_grid))\n",
    "    grid_results = [fit_model_grid_jax(params, model_data_jax, num_epochs_grid, rng_key) for params, rng_key in zip(parameter_grid, rngs)]\n",
    "\n",
    "    best_params = parameter_grid[np.argmin(grid_results)]\n",
    "\n",
    "    print(\"Best: %f using %s\" % (min(grid_results), best_params))\n",
    "\n",
    "num_samples = best_params['num_samples']\n",
    "learning_rate = best_params['learning_rate']\n",
    "l1_regularization_factor = best_params['l1_regularization_factor']\n",
    "l2_regularization_factor = best_params['l2_regularization_factor']\n"
   ]
  },
  {
   "cell_type": "markdown",
   "id": "66e5451f",
   "metadata": {},
   "source": [
    "# Fitting final model and testing"
   ]
  },
  {
   "cell_type": "code",
   "execution_count": 484,
   "id": "f7974378",
   "metadata": {},
   "outputs": [
    {
     "name": "stdout",
     "output_type": "stream",
     "text": [
      "Warning: Output model directory already exists.\n",
      "Warning: Output plot directory already exists.\n"
     ]
    }
   ],
   "source": [
    "#Output model directory\n",
    "model_directory = os.path.join(output_directory, \"whole_model\")\n",
    "#Create output model directory\n",
    "try:\n",
    "  os.mkdir(model_directory)\n",
    "except FileExistsError:\n",
    "  print(\"Warning: Output model directory already exists.\")\n",
    "\n",
    "#Output plot directory\n",
    "plot_directory = os.path.join(output_directory, \"plots\")\n",
    "#Create output plot directory\n",
    "try:\n",
    "  os.mkdir(plot_directory)\n",
    "except FileExistsError:\n",
    "  print(\"Warning: Output plot directory already exists.\")\n",
    "\n",
    "#Weights directory\n",
    "weights_directory = os.path.join(output_directory, \"weights\")\n",
    "#Create output plot directory\n",
    "try:\n",
    "  os.mkdir(weights_directory)\n",
    "except FileExistsError:\n",
    "  print(\"Warning: Output weights directory already exists.\")"
   ]
  },
  {
   "cell_type": "code",
   "execution_count": 481,
   "id": "3cf4acb5",
   "metadata": {},
   "outputs": [
    {
     "data": {
      "text/plain": [
       "'/Users/pierredemetz/UCL_work/Crick/doubledeepms/Results//Data/mochi/GRB2-SH3/mochi__fit_tmodel_3state_sparse_dimsum128_subsample100p/plots'"
      ]
     },
     "execution_count": 481,
     "metadata": {},
     "output_type": "execute_result"
    }
   ],
   "source": [
    "plot_directory"
   ]
  },
  {
   "cell_type": "code",
   "execution_count": 477,
   "id": "ceaec6af",
   "metadata": {},
   "outputs": [],
   "source": [
    "from training import model_training, shuffle_weights"
   ]
  },
  {
   "cell_type": "code",
   "execution_count": 485,
   "id": "bd3abc54",
   "metadata": {
    "scrolled": true
   },
   "outputs": [
    {
     "name": "stdout",
     "output_type": "stream",
     "text": [
      "Grid search using {'num_samples': 128, 'learning_rate': 0.0001, 'l1_regularization_factor': 0.0001, 'l2_regularization_factor': 0.01, 'number_additive_traits': 1}\n",
      "epoch done\n",
      "epoch done\n",
      "epoch done\n",
      "epoch done\n",
      "epoch done\n",
      "epoch done\n",
      "epoch done\n",
      "epoch done\n",
      "epoch done\n",
      "epoch done\n",
      "[0.6976140141487122, 0.6637396812438965, 0.6319745779037476, 0.602327823638916, 0.5750360488891602, 0.5503971576690674, 0.5282517671585083, 0.5083247423171997, 0.48985135555267334, 0.47273972630500793]\n"
     ]
    },
    {
     "data": {
      "image/png": "[encoded data removed]",
      "text/plain": [
       "<Figure size 576x576 with 1 Axes>"
      ]
     },
     "metadata": {
      "needs_background": "light"
     },
     "output_type": "display_data"
    },
    {
     "name": "stdout",
     "output_type": "stream",
     "text": [
      "Grid search using {'num_samples': 128, 'learning_rate': 0.0001, 'l1_regularization_factor': 0.0001, 'l2_regularization_factor': 0.01, 'number_additive_traits': 1}\n"
     ]
    },
    {
     "name": "stderr",
     "output_type": "stream",
     "text": [
      "/Users/pierredemetz/miniconda3/envs/pierre/lib/python3.8/site-packages/haiku/_src/data_structures.py:143: FutureWarning: jax.tree_flatten is deprecated, and will be removed in a future release. Use jax.tree_util.tree_flatten instead.\n",
      "  leaves, treedef = jax.tree_flatten(tree)\n",
      "/Users/pierredemetz/miniconda3/envs/pierre/lib/python3.8/site-packages/haiku/_src/data_structures.py:144: FutureWarning: jax.tree_unflatten is deprecated, and will be removed in a future release. Use jax.tree_util.tree_unflatten instead.\n",
      "  return jax.tree_unflatten(treedef, leaves)\n"
     ]
    },
    {
     "name": "stdout",
     "output_type": "stream",
     "text": [
      "epoch done\n",
      "epoch done\n",
      "epoch done\n",
      "epoch done\n",
      "epoch done\n",
      "epoch done\n",
      "epoch done\n",
      "epoch done\n",
      "epoch done\n",
      "epoch done\n",
      "[0.6976140141487122, 0.6637396812438965, 0.6319745779037476, 0.602327823638916, 0.5750360488891602, 0.5503971576690674, 0.5282517671585083, 0.5083247423171997, 0.48985135555267334, 0.47273972630500793]\n"
     ]
    },
    {
     "data": {
      "image/png": "[encoded data removed]",
      "text/plain": [
       "<Figure size 576x576 with 1 Axes>"
      ]
     },
     "metadata": {
      "needs_background": "light"
     },
     "output_type": "display_data"
    }
   ],
   "source": [
    "num_samples = best_params['num_samples']\n",
    "learning_rate = best_params['learning_rate']\n",
    "l1_regularization_factor = best_params['l1_regularization_factor']\n",
    "l2_regularization_factor = best_params['l2_regularization_factor']\n",
    "number_additive_traits = best_params['number_additive_traits']\n",
    "\n",
    "#######################################################################\n",
    "## BUILD FINAL NEURAL NETWORK ##\n",
    "#######################################################################\n",
    "\n",
    "#create the rng\n",
    "random_seed = 42\n",
    "rng = jax.random.PRNGKey(random_seed)\n",
    "num_models = 2 \n",
    "\n",
    "model, optimizer = create_model_jax(\n",
    "    rng=rng,\n",
    "    learn_rate=learning_rate,\n",
    "    l1=l1_regularization_factor,\n",
    "    l2=l2_regularization_factor,\n",
    "    input_dim_select=model_data_jax['train']['select'].shape[1],\n",
    "    input_dim_folding=model_data_jax['train']['fold'].shape[1],\n",
    "    input_dim_binding=model_data_jax['train']['bind'].shape[1],\n",
    "    number_additive_traits=number_additive_traits\n",
    ")\n",
    "\n",
    "weights = model.init(rng, model_data_jax['train']['select'], model_data_jax['train']['fold'], model_data_jax['train']['bind'])\n",
    "opt_state = optimizer.init(weights)\n",
    "\n",
    "for model_count in range(num_models):\n",
    "\n",
    "    #Shuffle model weights\n",
    "    shuffled_weights = shuffle_weights(rng, weights)\n",
    "\n",
    "    #Fit the model on best params\n",
    "    history, model, trained_weights = model_training(model, optimizer, shuffled_weights, opt_state, best_params, model_data_jax, num_epochs_grid, rng)\n",
    "        \n",
    "    # Model predictions on observed variants\n",
    "    model_predictions = model.apply(trained_weights, \n",
    "                                    model_data_jax['obs']['select'],\n",
    "                                    model_data_jax['obs']['fold'],\n",
    "                                    model_data_jax['obs']['bind']\n",
    "                                   )\n",
    "    #save model\n",
    "    #model.save(os.path.join(model_directory, 'my_model_'+str(model_count)))\n",
    "    with open(os.path.join(weights_directory, f'weights_{model_count}.pickle'), 'wb') as handle:\n",
    "        pickle.dump(shuffled_weights, handle, protocol=pickle.HIGHEST_PROTOCOL)\n",
    "    \n",
    "    #load model\n",
    "    #model = load_model(os.path.join(model_directory, 'my_model_'+str(model_count)))\n",
    "    with open(os.path.join(weights_directory, f'weights_{model_count}.pickle'), 'rb') as handle:\n",
    "        shuffled_weights_reloaded = pickle.load(handle)\n",
    "        \n",
    "    print(history)\n",
    "    #Plot model performance per epoch\n",
    "    my_figure = plt.figure(figsize = (8,8))\n",
    "    plt.plot(np.log(history))\n",
    "    plt.xlabel('Number of epochs')\n",
    "    plt.ylabel('Mean Absolute Error (MAE) on testing data')\n",
    "    plt.show()\n",
    "    my_figure.savefig(os.path.join(plot_directory, \"model_performance_perepoch_\"+str(model_count)+\".pdf\"), bbox_inches='tight')\n",
    "    "
   ]
  },
  {
   "cell_type": "markdown",
   "id": "14788561",
   "metadata": {},
   "source": [
    "# Finish the plots below and then move everything to .py folder"
   ]
  },
  {
   "cell_type": "code",
   "execution_count": 486,
   "id": "54f366e1",
   "metadata": {},
   "outputs": [
    {
     "ename": "TypeError",
     "evalue": "state argument does not appear valid. It should be a mapping but is of type <class 'jaxlib.xla_extension.DeviceArray'>. For reference the parameters for apply are `apply(params, rng, ...)`` for `hk.transform` and `apply(params, state, rng, ...)` for `hk.transform_with_state`.\nThe argument was: DeviceArray([ 0, 42], dtype=uint32).",
     "output_type": "error",
     "traceback": [
      "\u001b[0;31m---------------------------------------------------------------------------\u001b[0m",
      "\u001b[0;31mTypeError\u001b[0m                                 Traceback (most recent call last)",
      "Cell \u001b[0;32mIn[486], line 7\u001b[0m\n\u001b[1;32m      4\u001b[0m     \u001b[38;5;28;01mreturn\u001b[39;00m model\u001b[38;5;241m.\u001b[39mapply(params, rng, inputs)\n\u001b[1;32m      6\u001b[0m \u001b[38;5;66;03m# Calculate folding and binding additive traits\u001b[39;00m\n\u001b[0;32m----> 7\u001b[0m folding_additive_trait_df \u001b[38;5;241m=\u001b[39m pd\u001b[38;5;241m.\u001b[39mDataFrame(\u001b[43mget_intermediate_output\u001b[49m\u001b[43m(\u001b[49m\u001b[43mparams\u001b[49m\u001b[43m,\u001b[49m\u001b[43m \u001b[49m\u001b[43mrng\u001b[49m\u001b[43m,\u001b[49m\u001b[43m \u001b[49m\u001b[43m[\u001b[49m\u001b[43mmodel_data_jax\u001b[49m\u001b[43m[\u001b[49m\u001b[38;5;124;43m'\u001b[39;49m\u001b[38;5;124;43mobs\u001b[39;49m\u001b[38;5;124;43m'\u001b[39;49m\u001b[43m]\u001b[49m\u001b[43m[\u001b[49m\u001b[38;5;124;43m'\u001b[39;49m\u001b[38;5;124;43mselect\u001b[39;49m\u001b[38;5;124;43m'\u001b[39;49m\u001b[43m]\u001b[49m\u001b[43m,\u001b[49m\n\u001b[1;32m      8\u001b[0m \u001b[43m                                                                              \u001b[49m\u001b[43mmodel_data_jax\u001b[49m\u001b[43m[\u001b[49m\u001b[38;5;124;43m'\u001b[39;49m\u001b[38;5;124;43mobs\u001b[39;49m\u001b[38;5;124;43m'\u001b[39;49m\u001b[43m]\u001b[49m\u001b[43m[\u001b[49m\u001b[38;5;124;43m'\u001b[39;49m\u001b[38;5;124;43mfold\u001b[39;49m\u001b[38;5;124;43m'\u001b[39;49m\u001b[43m]\u001b[49m\u001b[43m,\u001b[49m\n\u001b[1;32m      9\u001b[0m \u001b[43m                                                                              \u001b[49m\u001b[43mmodel_data_jax\u001b[49m\u001b[43m[\u001b[49m\u001b[38;5;124;43m'\u001b[39;49m\u001b[38;5;124;43mobs\u001b[39;49m\u001b[38;5;124;43m'\u001b[39;49m\u001b[43m]\u001b[49m\u001b[43m[\u001b[49m\u001b[38;5;124;43m'\u001b[39;49m\u001b[38;5;124;43mbind\u001b[39;49m\u001b[38;5;124;43m'\u001b[39;49m\u001b[43m]\u001b[49m\u001b[43m]\u001b[49m\u001b[43m,\u001b[49m\n\u001b[1;32m     10\u001b[0m \u001b[43m                                                                  \u001b[49m\u001b[38;5;124;43m\"\u001b[39;49m\u001b[38;5;124;43mfolding_additivetrait\u001b[39;49m\u001b[38;5;124;43m\"\u001b[39;49m\u001b[43m)\u001b[49m)\n\u001b[1;32m     12\u001b[0m binding_additive_trait_df \u001b[38;5;241m=\u001b[39m pd\u001b[38;5;241m.\u001b[39mDataFrame(get_intermediate_output(params, rng, [model_data_jax[\u001b[38;5;124m'\u001b[39m\u001b[38;5;124mobs\u001b[39m\u001b[38;5;124m'\u001b[39m][\u001b[38;5;124m'\u001b[39m\u001b[38;5;124mselect\u001b[39m\u001b[38;5;124m'\u001b[39m],\n\u001b[1;32m     13\u001b[0m                                                                               model_data_jax[\u001b[38;5;124m'\u001b[39m\u001b[38;5;124mobs\u001b[39m\u001b[38;5;124m'\u001b[39m][\u001b[38;5;124m'\u001b[39m\u001b[38;5;124mfold\u001b[39m\u001b[38;5;124m'\u001b[39m],\n\u001b[1;32m     14\u001b[0m                                                                               model_data_jax[\u001b[38;5;124m'\u001b[39m\u001b[38;5;124mobs\u001b[39m\u001b[38;5;124m'\u001b[39m][\u001b[38;5;124m'\u001b[39m\u001b[38;5;124mbind\u001b[39m\u001b[38;5;124m'\u001b[39m]],\n\u001b[1;32m     15\u001b[0m                                                                   \u001b[38;5;124m\"\u001b[39m\u001b[38;5;124mbinding_additivetrait\u001b[39m\u001b[38;5;124m\"\u001b[39m))\n\u001b[1;32m     18\u001b[0m \u001b[38;5;66;03m#Results data frame\u001b[39;00m\n",
      "Cell \u001b[0;32mIn[486], line 4\u001b[0m, in \u001b[0;36mget_intermediate_output\u001b[0;34m(params, rng, inputs, module_name)\u001b[0m\n\u001b[1;32m      2\u001b[0m \u001b[38;5;28;01mdef\u001b[39;00m \u001b[38;5;21mget_intermediate_output\u001b[39m(params, rng, inputs, module_name):\n\u001b[1;32m      3\u001b[0m     model \u001b[38;5;241m=\u001b[39m hk\u001b[38;5;241m.\u001b[39mtransform_with_state(\u001b[38;5;28;01mlambda\u001b[39;00m x: hk\u001b[38;5;241m.\u001b[39mapply_module(params, rng, module_name, x))\n\u001b[0;32m----> 4\u001b[0m     \u001b[38;5;28;01mreturn\u001b[39;00m \u001b[43mmodel\u001b[49m\u001b[38;5;241;43m.\u001b[39;49m\u001b[43mapply\u001b[49m\u001b[43m(\u001b[49m\u001b[43mparams\u001b[49m\u001b[43m,\u001b[49m\u001b[43m \u001b[49m\u001b[43mrng\u001b[49m\u001b[43m,\u001b[49m\u001b[43m \u001b[49m\u001b[43minputs\u001b[49m\u001b[43m)\u001b[49m\n",
      "File \u001b[0;32m~/miniconda3/envs/pierre/lib/python3.8/site-packages/haiku/_src/transform.py:395\u001b[0m, in \u001b[0;36mtransform_with_state.<locals>.apply_fn\u001b[0;34m(params, state, rng, *args, **kwargs)\u001b[0m\n\u001b[1;32m    393\u001b[0m \u001b[38;5;250m\u001b[39m\u001b[38;5;124;03m\"\"\"Applies your function injecting parameters and state.\"\"\"\u001b[39;00m\n\u001b[1;32m    394\u001b[0m params \u001b[38;5;241m=\u001b[39m check_mapping(\u001b[38;5;124m\"\u001b[39m\u001b[38;5;124mparams\u001b[39m\u001b[38;5;124m\"\u001b[39m, params)\n\u001b[0;32m--> 395\u001b[0m state \u001b[38;5;241m=\u001b[39m \u001b[43mcheck_mapping\u001b[49m\u001b[43m(\u001b[49m\u001b[38;5;124;43m\"\u001b[39;49m\u001b[38;5;124;43mstate\u001b[39;49m\u001b[38;5;124;43m\"\u001b[39;49m\u001b[43m,\u001b[49m\u001b[43m \u001b[49m\u001b[43mstate\u001b[49m\u001b[43m)\u001b[49m\n\u001b[1;32m    396\u001b[0m rng \u001b[38;5;241m=\u001b[39m to_prng_sequence(\n\u001b[1;32m    397\u001b[0m     rng, err_msg\u001b[38;5;241m=\u001b[39m(APPLY_RNG_STATE_ERROR \u001b[38;5;28;01mif\u001b[39;00m state \u001b[38;5;28;01melse\u001b[39;00m APPLY_RNG_ERROR))\n\u001b[1;32m    398\u001b[0m \u001b[38;5;28;01mwith\u001b[39;00m base\u001b[38;5;241m.\u001b[39mnew_context(params\u001b[38;5;241m=\u001b[39mparams, state\u001b[38;5;241m=\u001b[39mstate, rng\u001b[38;5;241m=\u001b[39mrng) \u001b[38;5;28;01mas\u001b[39;00m ctx:\n",
      "File \u001b[0;32m~/miniconda3/envs/pierre/lib/python3.8/site-packages/haiku/_src/transform.py:431\u001b[0m, in \u001b[0;36mcheck_mapping\u001b[0;34m(name, mapping)\u001b[0m\n\u001b[1;32m    429\u001b[0m   mapping \u001b[38;5;241m=\u001b[39m \u001b[38;5;28mdict\u001b[39m()\n\u001b[1;32m    430\u001b[0m \u001b[38;5;28;01mif\u001b[39;00m \u001b[38;5;129;01mnot\u001b[39;00m \u001b[38;5;28misinstance\u001b[39m(mapping, Mapping):\n\u001b[0;32m--> 431\u001b[0m   \u001b[38;5;28;01mraise\u001b[39;00m \u001b[38;5;167;01mTypeError\u001b[39;00m(\u001b[38;5;124mf\u001b[39m\u001b[38;5;124m\"\u001b[39m\u001b[38;5;132;01m{\u001b[39;00mname\u001b[38;5;132;01m}\u001b[39;00m\u001b[38;5;124m argument does not appear valid. It should be a \u001b[39m\u001b[38;5;124m\"\u001b[39m\n\u001b[1;32m    432\u001b[0m                   \u001b[38;5;124mf\u001b[39m\u001b[38;5;124m\"\u001b[39m\u001b[38;5;124mmapping but is of type \u001b[39m\u001b[38;5;132;01m{\u001b[39;00m\u001b[38;5;28mtype\u001b[39m(mapping)\u001b[38;5;132;01m}\u001b[39;00m\u001b[38;5;124m. \u001b[39m\u001b[38;5;124m\"\u001b[39m\n\u001b[1;32m    433\u001b[0m                   \u001b[38;5;124m\"\u001b[39m\u001b[38;5;124mFor reference the parameters for apply are \u001b[39m\u001b[38;5;124m\"\u001b[39m\n\u001b[1;32m    434\u001b[0m                   \u001b[38;5;124m\"\u001b[39m\u001b[38;5;124m`apply(params, rng, ...)`` for `hk.transform` and \u001b[39m\u001b[38;5;124m\"\u001b[39m\n\u001b[1;32m    435\u001b[0m                   \u001b[38;5;124m\"\u001b[39m\u001b[38;5;124m`apply(params, state, rng, ...)` for \u001b[39m\u001b[38;5;124m\"\u001b[39m\n\u001b[1;32m    436\u001b[0m                   \u001b[38;5;124m\"\u001b[39m\u001b[38;5;124m`hk.transform_with_state`.\u001b[39m\u001b[38;5;130;01m\\n\u001b[39;00m\u001b[38;5;124m\"\u001b[39m\n\u001b[1;32m    437\u001b[0m                   \u001b[38;5;124mf\u001b[39m\u001b[38;5;124m\"\u001b[39m\u001b[38;5;124mThe argument was: \u001b[39m\u001b[38;5;132;01m{\u001b[39;00mmapping\u001b[38;5;132;01m!r}\u001b[39;00m\u001b[38;5;124m.\u001b[39m\u001b[38;5;124m\"\u001b[39m)\n\u001b[1;32m    438\u001b[0m \u001b[38;5;28;01mreturn\u001b[39;00m mapping\n",
      "\u001b[0;31mTypeError\u001b[0m: state argument does not appear valid. It should be a mapping but is of type <class 'jaxlib.xla_extension.DeviceArray'>. For reference the parameters for apply are `apply(params, rng, ...)`` for `hk.transform` and `apply(params, state, rng, ...)` for `hk.transform_with_state`.\nThe argument was: DeviceArray([ 0, 42], dtype=uint32)."
     ]
    }
   ],
   "source": [
    "# Function to get intermediate output from the model\n",
    "def get_intermediate_output(params, rng, inputs, module_name):\n",
    "    model = hk.transform_with_state(lambda x: hk.apply_module(params, rng, module_name, x))\n",
    "    return model.apply(params, rng, inputs)\n",
    "\n",
    "# Calculate folding and binding additive traits\n",
    "folding_additive_trait_df = pd.DataFrame(get_intermediate_output(params, rng, [model_data_jax['obs']['select'],\n",
    "                                                                              model_data_jax['obs']['fold'],\n",
    "                                                                              model_data_jax['obs']['bind']],\n",
    "                                                                  \"folding_additivetrait\"))\n",
    "\n",
    "binding_additive_trait_df = pd.DataFrame(get_intermediate_output(params, rng, [model_data_jax['obs']['select'],\n",
    "                                                                              model_data_jax['obs']['fold'],\n",
    "                                                                              model_data_jax['obs']['bind']],\n",
    "                                                                  \"binding_additivetrait\"))\n",
    "\n",
    "\n",
    "#Results data frame\n",
    "dataframe_to_export = pd.DataFrame({\n",
    "    \"seq\" : np.array(model_data['obs']['sequence']).flatten(),\n",
    "    \"observed_fitness\" : np.array(model_data['obs']['target']).flatten(),\n",
    "    \"predicted_fitness\" : model_predictions.flatten(),\n",
    "    \"additive_trait_folding\" : folding_additive_trait_df[\"trait 0\"],\n",
    "    \"additive_trait_binding\" : binding_additive_trait_df[\"trait 0\"],\n",
    "    \"training_set\" : np.array(model_data['obs']['training_set']).flatten()\n",
    "})\n",
    "#Save as csv file\n",
    "dataframe_to_export.to_csv(os.path.join(output_directory, \"predicted_fitness_\"+str(model_count)+\".txt\"),\n",
    "                           sep = \"\\t\",\n",
    "                           index = False)\n",
    "\n",
    "\n",
    "# Save model weights\n",
    "dataframe_to_export_folding = pd.DataFrame({\n",
    "    \"id\" : model_data_jax['obs']['fold_colnames'],\n",
    "    \"folding_coefficient\" : [params[\"folding_additive\"][\"w\"] for _ in range(len(model_data_jax['obs']['fold_colnames']))]})\n",
    "dataframe_to_export_binding = pd.DataFrame({\n",
    "    \"id\" : model_data_jax['obs']['bind_colnames'],\n",
    "    \"binding_coefficient\" : [params[\"binding_additive\"][\"w\"] for _ in range(len(model_data_jax['obs']['bind_colnames']))]})\n",
    "\n",
    "# Save dataframes as csv files \n",
    "#Merge\n",
    "dataframe_to_export = dataframe_to_export_folding.merge(dataframe_to_export_binding, left_on='id', right_on='id', how='outer')\n",
    "#Save as csv file\n",
    "dataframe_to_export.to_csv(os.path.join(output_directory, \"model_weights_\"+str(model_count)+\".txt\"),\n",
    "                           sep = \"\\t\",\n",
    "                           index = False)\n",
    "\n",
    "# Save remaining model parameters (linear layers)\n",
    "with open(os.path.join(output_directory, \"model_parameters_\"+str(model_count)+\".txt\"), 'w') as f:\n",
    "    for module_name, module_params in params.items():\n",
    "        if module_name in [\"folding_additive\", \"binding_additive\"]:\n",
    "            f.write(module_name.replace(\"additive\", \"linear\")+\"_kernel\\n\")\n",
    "            f.write(str(float(module_params[\"w\"]))+\"\\n\")\n",
    "            f.write(module_name.replace(\"additive\", \"linear\")+\"_bias\\n\")\n",
    "            f.write(str(float(module_params[\"b\"]))+\"\\n\")"
   ]
  },
  {
   "cell_type": "code",
   "execution_count": null,
   "id": "5923dfee",
   "metadata": {},
   "outputs": [],
   "source": []
  }
 ],
 "metadata": {
  "kernelspec": {
   "display_name": "Python 3",
   "language": "python",
   "name": "python3"
  },
  "language_info": {
   "codemirror_mode": {
    "name": "ipython",
    "version": 3
   },
   "file_extension": ".py",
   "mimetype": "text/x-python",
   "name": "python",
   "nbconvert_exporter": "python",
   "pygments_lexer": "ipython3",
   "version": "3.8.16"
  }
 },
 "nbformat": 4,
 "nbformat_minor": 5
}
